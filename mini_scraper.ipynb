{
 "cells": [
  {
   "cell_type": "markdown",
   "source": [
    "# Mini Shop Scraper"
   ],
   "metadata": {}
  },
  {
   "cell_type": "markdown",
   "source": [
    "## Import Packages"
   ],
   "metadata": {}
  },
  {
   "cell_type": "code",
   "execution_count": 17,
   "source": [
    "from selenium import webdriver\r\n",
    "import time\r\n",
    "import numpy as np\r\n",
    "from webdriver_manager.chrome import ChromeDriverManager\r\n",
    "import pandas as pd\r\n",
    "import re\r\n",
    "from datetime import date, datetime\r\n",
    "import sqlite3"
   ],
   "outputs": [],
   "metadata": {}
  },
  {
   "cell_type": "markdown",
   "source": [
    "## Install Driver"
   ],
   "metadata": {}
  },
  {
   "cell_type": "code",
   "execution_count": 18,
   "source": [
    "#Install Driver\r\n",
    "driver = webdriver.Chrome(ChromeDriverManager().install())"
   ],
   "outputs": [
    {
     "output_type": "stream",
     "name": "stderr",
     "text": [
      "\n",
      "\n",
      "====== WebDriver manager ======\n",
      "Current google-chrome version is 93.0.4577\n",
      "Get LATEST driver version for 93.0.4577\n",
      "Driver [C:\\Users\\ekaap\\.wdm\\drivers\\chromedriver\\win32\\93.0.4577.63\\chromedriver.exe] found in cache\n"
     ]
    }
   ],
   "metadata": {}
  },
  {
   "cell_type": "markdown",
   "source": [
    "## Search URL"
   ],
   "metadata": {}
  },
  {
   "cell_type": "code",
   "execution_count": 19,
   "source": [
    "#Specify Search URL \r\n",
    "search_url=\"https://shopee.co.id/han_river_official\" \r\n",
    "\r\n",
    "#Open URL\r\n",
    "driver.get(search_url)\r\n",
    "\r\n",
    "#Scroll to the end of the page\r\n",
    "driver.execute_script(\"window.scrollTo(0, document.body.scrollHeight);\")\r\n",
    "time.sleep(5)#sleep_between_interactions"
   ],
   "outputs": [],
   "metadata": {}
  },
  {
   "cell_type": "markdown",
   "source": [
    "## Get Shop Information"
   ],
   "metadata": {}
  },
  {
   "cell_type": "code",
   "execution_count": 21,
   "source": [
    "#Shop Name\r\n",
    "shop_name = driver.find_element_by_xpath(\"//h1[contains(@class,'section-seller-overview-horizontal__portrait-name')]\").text\r\n",
    "\r\n",
    "#Shop Logo\r\n",
    "shop_logo = driver.find_element_by_xpath(\"//img[contains(@class,'shopee-avatar__img')]\").get_attribute('src')\r\n",
    "\r\n",
    "#Number of Products\r\n",
    "num_product = int(driver.find_element_by_xpath(\"//div[contains(@class,'section-seller-overview__item-text-value')]\").text)\r\n",
    "\r\n",
    "#Shop Tagline\r\n",
    "shop_tagline = driver.find_element_by_xpath(\"//div[contains(@class,'shop-page-shop-description')]/span\").text\r\n",
    "shop_tagline = shop_tagline.split('\\n')\r\n",
    "shop_tagline = \" \".join(shop_tagline)\r\n",
    "\r\n",
    "#Save to local database\r\n",
    "conn = sqlite3.connect('shopee_scraper.db')\r\n",
    "shop = {\"shop_name\" : [shop_name], \"shop_logo\" : [shop_logo], \"number_of_products\" : [num_product], \"shop_tagline\" : [shop_tagline], \"scraped_at\" : [datetime.now()]}\r\n",
    "df = pd.DataFrame(shop)\r\n",
    "df.to_sql('shop_information', conn, if_exists='append', index=False)\r\n",
    "conn.close()\r\n",
    "\r\n",
    "print(\"Shop Information\")\r\n",
    "print(\"Shop Name: {0}\".format(shop_name))\r\n",
    "print(\"Shop Logo: {0}\".format(shop_logo))\r\n",
    "print(\"Number of Products: {0}\".format(num_product))\r\n",
    "print(\"Shop Tagline: {0}\".format(shop_tagline))\r\n"
   ],
   "outputs": [
    {
     "output_type": "stream",
     "name": "stdout",
     "text": [
      "Shop Information\n",
      "Shop Name: HAN RIVER Official Shop\n",
      "Shop Logo: https://cf.shopee.co.id/file/b652a94eeed4d218d956b30840db355a_tn\n",
      "Number of Products: 94\n",
      "Shop Tagline: HAN RIVER Official Shop adalah akun resmi dari Shopee Indonesia dan paket akan dikirim dalam 1-2 hari, akan memakan waktu sekitar 5-6 hari untuk mencapai lokasi Anda. Catatan: Dapatkan kupon toko kami sebelum memesan, anda akan mendapat potongan harga. Jam kerja toko kami dari Senin sampai Sabtu pukul 9:00 pagi hingga 18:00 sore. Jika Anda memiliki pertanyaan atau masalah, jangan ragu untuk menghubungi kami dan kami akan membantu Anda.\n"
     ]
    }
   ],
   "metadata": {}
  },
  {
   "cell_type": "markdown",
   "source": [
    "## Get Products Information"
   ],
   "metadata": {}
  },
  {
   "cell_type": "code",
   "execution_count": 130,
   "source": [
    "#Define Table\r\n",
    "products_info = {\"name\":[],\"category\":[],\"description\":[],\"price\":[],\"weight\":[],\"stock\":[],\"image_urls\":[]}\r\n",
    "\r\n",
    "#Go to product section\r\n",
    "driver.find_element_by_xpath(\"//div[contains(@class,'section-seller-overview__item-icon-wrapper')]\").click()\r\n",
    "time.sleep(1) #sleep_between_interactions\r\n",
    "\r\n",
    "#Get categories\r\n",
    "primary_category_path = \"//div[contains(@class,'shopee-facet-filter')]/div[contains(@class,'shopeee-filter-group__body')]\"\r\n",
    "categories_pr = driver.find_elements_by_xpath(primary_category_path + \"/div[contains(@class,'shopee-checkbox-filter')]/div[contains(@class,'shopee-checkbox')]/label[contains(@class,'shopee-checkbox__control')]/span[contains(@class,'shopee-checkbox__label')]\")\r\n",
    "categories_sc = driver.find_elements_by_xpath(primary_category_path + \"/div[contains(@class,'stardust-dropdown folding-items__toggle')]/div[contains(@class,'stardust-dropdown__item-body')]/div[contains(@class,'folding-items__folded-items')]/div[contains(@class,'shopee-checkbox-filter')]/div[contains(@class,'shopee-checkbox')]/label[contains(@class,'shopee-checkbox__control')]/span[contains(@class,'shopee-checkbox__label')]\")\r\n",
    "categories = categories_pr + categories_sc\r\n",
    "\r\n",
    "\r\n",
    "#Iterate Over Categories\r\n",
    "for cat in range(len(categories)):\r\n",
    "    categories_pr = driver.find_elements_by_xpath(primary_category_path + \"/div[contains(@class,'shopee-checkbox-filter')]/div[contains(@class,'shopee-checkbox')]/label[contains(@class,'shopee-checkbox__control')]/span[contains(@class,'shopee-checkbox__label')]\")\r\n",
    "    categories_sc = driver.find_elements_by_xpath(primary_category_path + \"/div[contains(@class,'stardust-dropdown folding-items__toggle')]/div[contains(@class,'stardust-dropdown__item-body')]/div[contains(@class,'folding-items__folded-items')]/div[contains(@class,'shopee-checkbox-filter')]/div[contains(@class,'shopee-checkbox')]/label[contains(@class,'shopee-checkbox__control')]/span[contains(@class,'shopee-checkbox__label')]\")\r\n",
    "    categories = categories_pr + categories_sc\r\n",
    "    categories[cat].click()\r\n",
    "    time.sleep(3) #sleep_between_interactions\r\n",
    "\r\n",
    "    #Get Pages\r\n",
    "    pages = driver.find_elements_by_xpath(\"//div[contains(@class,'shopee-page-controller')]/button[contains(@class,'shopee-button-solid')]\")\r\n",
    "\r\n",
    "    product_category = re.match(\"^[^\\(,]*\", categories[cat].text)[0].strip()\r\n",
    "    #Iterate Over Pages\r\n",
    "    for p in range(len(pages)):\r\n",
    "        page = driver.find_elements_by_xpath(\"//div[contains(@class,'shopee-page-controller')]/button[contains(@class,'shopee-button-solid')]\")[p]\r\n",
    "        page.click()\r\n",
    "        time.sleep(1) #sleep_between_interactions\r\n",
    "\r\n",
    "        products = driver.find_elements_by_xpath(\"//div[contains(@class,'shop-search-result-view__item')]\")\r\n",
    "\r\n",
    "        #Iterate Over Products\r\n",
    "        for pr in range(len(products)):\r\n",
    "            product = driver.find_elements_by_xpath(\"//div[contains(@class,'shop-search-result-view__item')]\")[pr]\r\n",
    "            product.click()\r\n",
    "            time.sleep(1) #sleep_between_interactions\r\n",
    "\r\n",
    "            #Get Product Name\r\n",
    "            product_name = driver.find_element_by_xpath(\"//div[contains(@class,'attM6y')]\").text\r\n",
    "            products_info[\"name\"].append(product_name)\r\n",
    "\r\n",
    "            #Get Product Category\r\n",
    "            products_info[\"category\"].append(product_category)\r\n",
    "\r\n",
    "            #Get Product Description\r\n",
    "            product_description = driver.find_element_by_xpath(\"//div[contains(@class,'_3yZnxJ')]\").text.replace(\"./n\",\". \").replace(\"/n\",\". \")\r\n",
    "            products_info[\"description\"].append(product_description)\r\n",
    "\r\n",
    "            #Get Product Price\r\n",
    "            try: #handle interval pricing\r\n",
    "                product_price = int(driver.find_element_by_xpath(\"//div[contains(@class,'Ybrg9j')]\").text.replace(\"Rp\",\"\").replace(\".\",\"\"))\r\n",
    "                products_info[\"price\"].append(product_price)\r\n",
    "            except ValueError:\r\n",
    "                number = driver.find_element_by_xpath(\"//div[contains(@class,'Ybrg9j')]\").text.replace(\"Rp\",\"\").replace(\".\",\"\")\r\n",
    "                price = re.search(\"(\\d+)(?=\\s*-)\", number)[0] #get minimum price from the interval\r\n",
    "                product_price = int(price)\r\n",
    "                products_info[\"price\"].append(product_price)\r\n",
    "\r\n",
    "            #Get Product Weight\r\n",
    "            weights = driver.find_elements_by_xpath(\"//div[contains(@class,'aPKXeO')]\")\r\n",
    "            specs = []\r\n",
    "\r\n",
    "            for i in range(len(weights)):\r\n",
    "                specs.append(weights[i].find_element_by_xpath(\"label\").text)\r\n",
    "\r\n",
    "            if \"Berat Produk\" in specs:\r\n",
    "                for i in range(len(weights)):\r\n",
    "                    if weights[i].find_element_by_xpath(\"label\").text == \"Berat Produk\":\r\n",
    "                        weight = weights[i].find_element_by_xpath(\"div\").text\r\n",
    "                        if \"kg\" in re.findall(\"kg\", weight):\r\n",
    "                            weight = float(weight.replace(\"kg\", \"\")) * 1000 #convert kg to gram\r\n",
    "                        else:\r\n",
    "                            weight = float(weight.replace(\"g\", \"\"))\r\n",
    "                        products_info['weight'].append(weight)\r\n",
    "                        break\r\n",
    "            else:\r\n",
    "                products_info['weight'].append(np.nan)\r\n",
    "            \r\n",
    "            #Get Product Stock\r\n",
    "            stocks = driver.find_elements_by_xpath(\"//div[contains(@class,'aPKXeO')]\")\r\n",
    "            specs = []\r\n",
    "\r\n",
    "            for i in range(len(stocks)):\r\n",
    "                specs.append(stocks[i].find_element_by_xpath(\"label\").text)\r\n",
    "\r\n",
    "            if \"Stok\" in specs or \"Stok Diskon\" in specs or \"Stok Lain\" in specs:\r\n",
    "                for i in range(len(stocks)):\r\n",
    "                    if stocks[i].find_element_by_xpath(\"label\").text == \"Stok\":\r\n",
    "                        stock = int(stocks[i].find_element_by_xpath(\"div\").text)\r\n",
    "                        products_info['stock'].append(stock)\r\n",
    "                        break\r\n",
    "                    elif stocks[i].find_element_by_xpath(\"label\").text == \"Stok Diskon\":\r\n",
    "                        stock_d = int(stocks[i].find_element_by_xpath(\"div\").text)\r\n",
    "                    elif stocks[i].find_element_by_xpath(\"label\").text == \"Stok Lain\":\r\n",
    "                        stock_l = int(stocks[i].find_element_by_xpath(\"div\").text)\r\n",
    "                        products_info['stock'].append(stock_d + stock_l)\r\n",
    "                        break\r\n",
    "            else:\r\n",
    "                products_info['stock'].append(np.nan)\r\n",
    "\r\n",
    "            #Get Image URLs\r\n",
    "            driver.find_element_by_xpath(\"//div[contains(@class,'ApRQXC')]\").click()\r\n",
    "            time.sleep(1) #sleep_between_interactions\r\n",
    "            images = driver.find_elements_by_xpath(\"//div[contains(@class,'_3-_YTZ _2fdy4G')]\")\r\n",
    "            urls = []\r\n",
    "\r\n",
    "            for i in range(len(images)):\r\n",
    "                image = driver.find_elements_by_xpath(\"//div[contains(@class,'_3-_YTZ _2fdy4G')]\")[i]\r\n",
    "                image.click()\r\n",
    "                try: #handle video\r\n",
    "                    style = driver.find_element_by_xpath(\"//div[contains(@class,'_1PrnIh _2GchKS')]\").get_attribute('style')\r\n",
    "                    style_url = style.split(\";\")[0]\r\n",
    "                    regex_url = \"((http|https)\\:\\/\\/)?[a-zA-Z0-9\\.\\/\\?\\:@\\-_=#]+\\.([a-zA-Z]){2,6}([a-zA-Z0-9\\.\\&\\/\\?\\:@\\-_=#])*\"\r\n",
    "                    url = re.search(regex_url, style_url)[0]\r\n",
    "                    urls.append(url)\r\n",
    "                except:\r\n",
    "                    video = driver.find_element_by_xpath(\"//video\").get_attribute('src')\r\n",
    "                    urls.append(video)\r\n",
    "\r\n",
    "            image_urls = \",\".join(urls)\r\n",
    "            products_info['image_urls'].append(image_urls)\r\n",
    "\r\n",
    "            #Get Back\r\n",
    "            driver.back()\r\n",
    "            time.sleep(3) #sleep_between_interactions\r\n",
    "    \r\n",
    "    if cat <= 3:\r\n",
    "        driver.find_element_by_xpath(primary_category_path + \"/div[contains(@class,'stardust-dropdown folding-items__toggle')]/div[contains(@class,'stardust-dropdown__item-header')]/div[contains(@class,'shopee-filter-group__toggle-btn')]\").click()\r\n",
    "        time.sleep(1) #sleep_between_interactions\r\n",
    "    categories_pr = driver.find_elements_by_xpath(primary_category_path + \"/div[contains(@class,'shopee-checkbox-filter')]/div[contains(@class,'shopee-checkbox')]/label[contains(@class,'shopee-checkbox__control')]/span[contains(@class,'shopee-checkbox__label')]\")\r\n",
    "    categories_sc = driver.find_elements_by_xpath(primary_category_path + \"/div[contains(@class,'stardust-dropdown folding-items__toggle')]/div[contains(@class,'stardust-dropdown__item-body')]/div[contains(@class,'folding-items__folded-items')]/div[contains(@class,'shopee-checkbox-filter')]/div[contains(@class,'shopee-checkbox')]/label[contains(@class,'shopee-checkbox__control')]/span[contains(@class,'shopee-checkbox__label')]\")\r\n",
    "    categories = categories_pr + categories_sc\r\n",
    "    categories[cat].click()\r\n",
    "    time.sleep(3) #sleep_between_interactions"
   ],
   "outputs": [],
   "metadata": {}
  },
  {
   "cell_type": "markdown",
   "source": [
    "## Save table to Excel and Database"
   ],
   "metadata": {}
  },
  {
   "cell_type": "code",
   "execution_count": 132,
   "source": [
    "#Convert dictionary to dataframe\r\n",
    "df = pd.DataFrame(products_info, columns=['name', 'category', 'description', 'price', 'weight', 'stock', 'image_urls'])\r\n",
    "df = df.drop_duplicates()\r\n",
    "\r\n",
    "#Get today's date and time\r\n",
    "today = date.today().strftime(\"%Y-%m-%d\")\r\n",
    "now = str(datetime.now().hour) + \" \" + str(datetime.now().minute)\r\n",
    "\r\n",
    "#Save to excel by current datetime \r\n",
    "writer = pd.ExcelWriter(\"scraping result {2} ({0} {1}).xlsx\".format(today, now, shop_name), engine='xlsxwriter')\r\n",
    "df.to_excel(writer, sheet_name=\"Scraping Result ({0})\".format(today), index = None, na_rep='NA')\r\n",
    "writer.save()\r\n",
    "\r\n",
    "#Save to database\r\n",
    "conn = sqlite3.connect('shopee_scraper.db')\r\n",
    "df.to_sql('products_information', conn, if_exists='replace', index=False)\r\n",
    "conn.close()"
   ],
   "outputs": [],
   "metadata": {}
  },
  {
   "cell_type": "markdown",
   "source": [
    "## (Extras) Upload Table to BigQuery Data Warehouse"
   ],
   "metadata": {}
  },
  {
   "cell_type": "code",
   "execution_count": null,
   "source": [
    "from google.oauth2 import service_account\r\n",
    "from google.cloud import bigquery\r\n",
    "\r\n",
    "#Get Service Account\r\n",
    "credentials_my = service_account.Credentials.from_service_account_file(\"your_service_account_key.json\")\r\n",
    "\r\n",
    "#Define Schema\r\n",
    "job_config = bigquery.LoadJobConfig(schema=[\r\n",
    "        bigquery.SchemaField(\"name\", bigquery.enums.SqlTypeNames.STRING),\r\n",
    "        bigquery.SchemaField(\"category\", bigquery.enums.SqlTypeNames.STRING),\r\n",
    "        bigquery.SchemaField(\"description\", bigquery.enums.SqlTypeNames.STRING),\r\n",
    "        bigquery.SchemaField(\"price\", bigquery.enums.SqlTypeNames.INT64),\r\n",
    "        bigquery.SchemaField(\"weight\", bigquery.enums.SqlTypeNames.FLOAT64),\r\n",
    "        bigquery.SchemaField(\"stock\", bigquery.enums.SqlTypeNames.INT64),\r\n",
    "        bigquery.SchemaField(\"image_urls\", bigquery.enums.SqlTypeNames.STRING)\r\n",
    "        ],\r\n",
    "    write_disposition=\"WRITE_TRUNCATE\")\r\n",
    "\r\n",
    "#Connect to table\r\n",
    "table_id = \"your_project_id.your_dataset.your_table\"\r\n",
    "client_target = bigquery.Client(credentials=credentials_my, project=\"your_project_id\")\r\n",
    "\r\n",
    "#Upload table\r\n",
    "client_target.load_table_from_dataframe(df, table_id, job_config=job_config)"
   ],
   "outputs": [],
   "metadata": {}
  },
  {
   "cell_type": "code",
   "execution_count": 9,
   "source": [
    "products_info = {'stock' : []}\r\n",
    "\r\n",
    "#Get Product Stock\r\n",
    "stocks = driver.find_elements_by_xpath(\"//div[contains(@class,'aPKXeO')]\")\r\n",
    "specs = []\r\n",
    "\r\n",
    "for i in range(len(stocks)):\r\n",
    "    specs.append(stocks[i].find_element_by_xpath(\"label\").text)\r\n",
    "\r\n",
    "if \"Stok\" in specs or \"Stok Diskon\" in specs or \"Stok Lain\" in specs:\r\n",
    "    for i in range(len(stocks)):\r\n",
    "        if stocks[i].find_element_by_xpath(\"label\").text == \"Stok\":\r\n",
    "            stock = int(stocks[i].find_element_by_xpath(\"div\").text)\r\n",
    "            products_info['stock'].append(stock)\r\n",
    "            break\r\n",
    "        elif stocks[i].find_element_by_xpath(\"label\").text == \"Stok Diskon\":\r\n",
    "            stock_d = int(stocks[i].find_element_by_xpath(\"div\").text)\r\n",
    "        elif stocks[i].find_element_by_xpath(\"label\").text == \"Stok Lain\":\r\n",
    "            stock_l = int(stocks[i].find_element_by_xpath(\"div\").text)\r\n",
    "            products_info['stock'].append(stock_d + stock_l)\r\n",
    "            break\r\n",
    "else:\r\n",
    "    products_info['stock'].append(np.nan)"
   ],
   "outputs": [],
   "metadata": {}
  },
  {
   "cell_type": "code",
   "execution_count": 15,
   "source": [
    "shop = {\"shop_name\" : [shop_name], \"shop_logo\" : [shop_logo], \"number_of_products\" : [num_product], \"shop_tagline\" : [shop_tagline], \"scraped_at\" : [datetime.now()]}\r\n",
    "df = pd.DataFrame(shop)"
   ],
   "outputs": [],
   "metadata": {}
  }
 ],
 "metadata": {
  "orig_nbformat": 4,
  "language_info": {
   "name": "python",
   "version": "3.8.5",
   "mimetype": "text/x-python",
   "codemirror_mode": {
    "name": "ipython",
    "version": 3
   },
   "pygments_lexer": "ipython3",
   "nbconvert_exporter": "python",
   "file_extension": ".py"
  },
  "kernelspec": {
   "name": "python3",
   "display_name": "Python 3.8.5 32-bit ('venv': venv)"
  },
  "interpreter": {
   "hash": "76d960f6d091c4daf3cd5bebf2404ba100575dbe0a3bcb273959c19c4d92b3d1"
  }
 },
 "nbformat": 4,
 "nbformat_minor": 2
}