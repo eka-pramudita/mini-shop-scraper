{
 "cells": [
  {
   "cell_type": "markdown",
   "source": [
    "# Scraping Data Preprocessing"
   ],
   "metadata": {}
  },
  {
   "cell_type": "markdown",
   "source": [
    "## Import Packages"
   ],
   "metadata": {}
  },
  {
   "cell_type": "code",
   "execution_count": 134,
   "source": [
    "import pandas as pd\r\n",
    "import re"
   ],
   "outputs": [],
   "metadata": {}
  },
  {
   "cell_type": "markdown",
   "source": [
    "## Read Dataframe"
   ],
   "metadata": {}
  },
  {
   "cell_type": "code",
   "execution_count": 135,
   "source": [
    "df = pd.read_excel(\"scraping result HAN RIVER Official Shop (2021-09-25 21 22).xlsx\")\r\n",
    "df = df.drop_duplicates()\r\n",
    "df.head(5)"
   ],
   "outputs": [
    {
     "output_type": "execute_result",
     "data": {
      "text/html": [
       "<div>\n",
       "<style scoped>\n",
       "    .dataframe tbody tr th:only-of-type {\n",
       "        vertical-align: middle;\n",
       "    }\n",
       "\n",
       "    .dataframe tbody tr th {\n",
       "        vertical-align: top;\n",
       "    }\n",
       "\n",
       "    .dataframe thead th {\n",
       "        text-align: right;\n",
       "    }\n",
       "</style>\n",
       "<table border=\"1\" class=\"dataframe\">\n",
       "  <thead>\n",
       "    <tr style=\"text-align: right;\">\n",
       "      <th></th>\n",
       "      <th>name</th>\n",
       "      <th>category</th>\n",
       "      <th>description</th>\n",
       "      <th>price</th>\n",
       "      <th>weight</th>\n",
       "      <th>stock</th>\n",
       "      <th>image_urls</th>\n",
       "    </tr>\n",
       "  </thead>\n",
       "  <tbody>\n",
       "    <tr>\n",
       "      <th>0</th>\n",
       "      <td>HAN RIVER HRHD03GN Hair dryer 800W Pengering R...</td>\n",
       "      <td>Alat Kecantikan</td>\n",
       "      <td>（Perhatian！！！！ ！！！！）Bagian atas adalah tombol ...</td>\n",
       "      <td>Rp99.000</td>\n",
       "      <td>NaN</td>\n",
       "      <td>2753.0</td>\n",
       "      <td>https://cvf.shopee.co.id/file/1b2fed66b798be63...</td>\n",
       "    </tr>\n",
       "    <tr>\n",
       "      <th>1</th>\n",
       "      <td>HAN RIVER Hair Dryer HRCFS01 ONE STEP SISIR PE...</td>\n",
       "      <td>Alat Kecantikan</td>\n",
       "      <td>NaN</td>\n",
       "      <td>Rp99.000</td>\n",
       "      <td>NaN</td>\n",
       "      <td>NaN</td>\n",
       "      <td>https://cvf.shopee.co.id/file/6475204a14ea165e...</td>\n",
       "    </tr>\n",
       "    <tr>\n",
       "      <th>2</th>\n",
       "      <td>HAN RIVER HRDRY01WH Alat Setrika Wajah Pemijat...</td>\n",
       "      <td>Alat Kecantikan</td>\n",
       "      <td>HAN RIVERHousehold appliancesSelamat datang un...</td>\n",
       "      <td>Rp49.000</td>\n",
       "      <td>NaN</td>\n",
       "      <td>2709.0</td>\n",
       "      <td>background-image: url(\"https://cf.shopee.co.id...</td>\n",
       "    </tr>\n",
       "    <tr>\n",
       "      <th>3</th>\n",
       "      <td>HAN RIVER L2010 Alat Setrika Wajah Pemijat Per...</td>\n",
       "      <td>Alat Kecantikan</td>\n",
       "      <td>HAN RIVERHousehold appliancesSelamat datang un...</td>\n",
       "      <td>Rp119.000</td>\n",
       "      <td>NaN</td>\n",
       "      <td>1344.0</td>\n",
       "      <td>https://cvf.shopee.co.id/file/5ce3e003c487b135...</td>\n",
       "    </tr>\n",
       "    <tr>\n",
       "      <th>4</th>\n",
       "      <td>HAN RIVER Catokan Rambut 2in1 Set 35watt hitam</td>\n",
       "      <td>Alat Kecantikan</td>\n",
       "      <td>NaN</td>\n",
       "      <td>Rp119.000</td>\n",
       "      <td>NaN</td>\n",
       "      <td>NaN</td>\n",
       "      <td>background-image: url(\"https://cf.shopee.co.id...</td>\n",
       "    </tr>\n",
       "  </tbody>\n",
       "</table>\n",
       "</div>"
      ],
      "text/plain": [
       "                                                name         category  \\\n",
       "0  HAN RIVER HRHD03GN Hair dryer 800W Pengering R...  Alat Kecantikan   \n",
       "1  HAN RIVER Hair Dryer HRCFS01 ONE STEP SISIR PE...  Alat Kecantikan   \n",
       "2  HAN RIVER HRDRY01WH Alat Setrika Wajah Pemijat...  Alat Kecantikan   \n",
       "3  HAN RIVER L2010 Alat Setrika Wajah Pemijat Per...  Alat Kecantikan   \n",
       "4     HAN RIVER Catokan Rambut 2in1 Set 35watt hitam  Alat Kecantikan   \n",
       "\n",
       "                                         description      price weight  \\\n",
       "0  （Perhatian！！！！ ！！！！）Bagian atas adalah tombol ...   Rp99.000    NaN   \n",
       "1                                                NaN   Rp99.000    NaN   \n",
       "2  HAN RIVERHousehold appliancesSelamat datang un...   Rp49.000    NaN   \n",
       "3  HAN RIVERHousehold appliancesSelamat datang un...  Rp119.000    NaN   \n",
       "4                                                NaN  Rp119.000    NaN   \n",
       "\n",
       "    stock                                         image_urls  \n",
       "0  2753.0  https://cvf.shopee.co.id/file/1b2fed66b798be63...  \n",
       "1     NaN  https://cvf.shopee.co.id/file/6475204a14ea165e...  \n",
       "2  2709.0  background-image: url(\"https://cf.shopee.co.id...  \n",
       "3  1344.0  https://cvf.shopee.co.id/file/5ce3e003c487b135...  \n",
       "4     NaN  background-image: url(\"https://cf.shopee.co.id...  "
      ]
     },
     "metadata": {},
     "execution_count": 135
    }
   ],
   "metadata": {}
  },
  {
   "cell_type": "code",
   "execution_count": 136,
   "source": [
    "df.dtypes"
   ],
   "outputs": [
    {
     "output_type": "execute_result",
     "data": {
      "text/plain": [
       "name            object\n",
       "category        object\n",
       "description     object\n",
       "price           object\n",
       "weight          object\n",
       "stock          float64\n",
       "image_urls      object\n",
       "dtype: object"
      ]
     },
     "metadata": {},
     "execution_count": 136
    }
   ],
   "metadata": {}
  },
  {
   "cell_type": "code",
   "execution_count": 137,
   "source": [
    "df.shape"
   ],
   "outputs": [
    {
     "output_type": "execute_result",
     "data": {
      "text/plain": [
       "(26, 7)"
      ]
     },
     "metadata": {},
     "execution_count": 137
    }
   ],
   "metadata": {}
  },
  {
   "cell_type": "markdown",
   "source": [
    "## Data Cleaning"
   ],
   "metadata": {}
  },
  {
   "cell_type": "markdown",
   "source": [
    "### Name"
   ],
   "metadata": {}
  },
  {
   "cell_type": "code",
   "execution_count": 138,
   "source": [
    "df['name']"
   ],
   "outputs": [
    {
     "output_type": "execute_result",
     "data": {
      "text/plain": [
       "0     HAN RIVER HRHD03GN Hair dryer 800W Pengering R...\n",
       "1     HAN RIVER Hair Dryer HRCFS01 ONE STEP SISIR PE...\n",
       "2     HAN RIVER HRDRY01WH Alat Setrika Wajah Pemijat...\n",
       "3     HAN RIVER L2010 Alat Setrika Wajah Pemijat Per...\n",
       "4        HAN RIVER Catokan Rambut 2in1 Set 35watt hitam\n",
       "5     HAN RIVER B01 penyedot komedo Vaccum Microcrys...\n",
       "6       HAN RIVER Catokan Rambut HRJFB03BK HITAM 45watt\n",
       "7     HAN RIVER catokan rambut 2 in 1 catokan - hita...\n",
       "8     HAN RIVER HRHD01BK Hair dryer 800W Pengering R...\n",
       "9     HAN RIVER HRHD02BK Hair dryer Household multi-...\n",
       "10        HAN RIVER HRJFB04 Catokan Rambut HITAM 30watt\n",
       "11    HAN RIVER panci listrik HRDKP01 grill pan BBQ ...\n",
       "12                         HAN RIVER Cooking jar BOTTLE\n",
       "13    Han River HRHB5PK Spatula pencampur 5 pcs -Gir...\n",
       "14    HAN RIVER Pisau set / Knife Set 6 Pcs / Kitche...\n",
       "15    HAN RIVER Z9 Electric Grill Multifungsi 1400 watt\n",
       "16    HAN RIVER HRHB4GN Spatula pencampur 4 pcs - Hi...\n",
       "17    HAN RIVER HRSKG01BK Grill Electric BBQ Panggan...\n",
       "18    HAN RIVER HRSKG02BK Grill Electric BBQ Panggan...\n",
       "19    HAN RIVER Grill pan HRSKG03BK Kontrol ganda BB...\n",
       "20    HAN RIVER Panci Elektrik/panci listrik/Panci B...\n",
       "21    HAN RIVER panci listrik 2 in 1/Multi Electric ...\n",
       "22                    HAN RIVER Blender HRJRJ03 gold 2L\n",
       "23    HAN RIVER Blender HRPBJ01 Mitochiba CH 200 PRE...\n",
       "24              HAN RIVER Blender HRJRJ-S2BK chopper 2L\n",
       "25     Han River 810PK blender portable/Juicer Usb 410M\n",
       "Name: name, dtype: object"
      ]
     },
     "metadata": {},
     "execution_count": 138
    }
   ],
   "metadata": {}
  },
  {
   "cell_type": "markdown",
   "source": [
    "Nama sudah bersih"
   ],
   "metadata": {}
  },
  {
   "cell_type": "markdown",
   "source": [
    "### Category"
   ],
   "metadata": {}
  },
  {
   "cell_type": "code",
   "execution_count": 139,
   "source": [
    "df[\"category\"].value_counts()"
   ],
   "outputs": [
    {
     "output_type": "execute_result",
     "data": {
      "text/plain": [
       "Alat Kecantikan         11\n",
       "Perlengkapan Dapur       6\n",
       "Alat Masak Serbaguna     5\n",
       "Juicer                   4\n",
       "Name: category, dtype: int64"
      ]
     },
     "metadata": {},
     "execution_count": 139
    }
   ],
   "metadata": {}
  },
  {
   "cell_type": "markdown",
   "source": [
    "Nama Category sudah bersih dan sesuai"
   ],
   "metadata": {}
  },
  {
   "cell_type": "markdown",
   "source": [
    "### Description"
   ],
   "metadata": {}
  },
  {
   "cell_type": "code",
   "execution_count": 140,
   "source": [
    "df[\"description\"][0]"
   ],
   "outputs": [
    {
     "output_type": "execute_result",
     "data": {
      "text/plain": [
       "'（Perhatian！！！！ ！！！！）Bagian atas adalah tombol suhu, dan bagian bawah adalah tombol angin. Tombol suhu hanya dapat berfungsi setelah tombol angin dinyalakan.\\n\\nHAN RIVERHousehold appliancesSelamat datang untuk membeli produk HAN RIVER. Perusahaan mengkhususkan diri dalam produksi peralatan rumah tangga dan berkomitmen untuk menyediakan produk yang terjangkau dan berkualitas tinggi kepada pelanggan di Asia Tenggara. Silakan gunakan produk sesuai dengan panduan operasi, silakan tinggalkan pujian bintang lima Anda setelah menerima barang, \\n\\nNama Produk   :   HAN RIVER\\n\\nNilai tegangan ：220V\\n\\nNilai Daya: 800watt\\n\\nNilai frekuensi ：50HZ\\n\\nFungsi produk：angin biasa/Udara panas\\n\\nGaya mulut angin：Outlet udara tunggal\\n\\nPeraturan 5 kecepatan\\n\\nSelesaikan 6 masalah besar\\n\\nMateri baru, anti-jatuh\\n\\nTebal 1,8 m dan kabel listrik tebal\\n\\nDilengkapi dengan BLUE ANION CAHAYA (melindungi rambut dari overdried)\\n\\nHarganya setengah dari produk berkualitas yang sama, menghabiskan setengah dari uang, menikmati layanan berkualitas tinggi\\n800watt Anion  Beauty Salon Haircare Hair drier Cold hot wind Pengatur panas Hairdryer\\n#HAIR DRYER #HAIR #HAN RIVER##hairdryermini'"
      ]
     },
     "metadata": {},
     "execution_count": 140
    }
   ],
   "metadata": {}
  },
  {
   "cell_type": "code",
   "execution_count": 141,
   "source": [
    "print(df[\"description\"][0])"
   ],
   "outputs": [
    {
     "output_type": "stream",
     "name": "stdout",
     "text": [
      "（Perhatian！！！！ ！！！！）Bagian atas adalah tombol suhu, dan bagian bawah adalah tombol angin. Tombol suhu hanya dapat berfungsi setelah tombol angin dinyalakan.\n",
      "\n",
      "HAN RIVERHousehold appliancesSelamat datang untuk membeli produk HAN RIVER. Perusahaan mengkhususkan diri dalam produksi peralatan rumah tangga dan berkomitmen untuk menyediakan produk yang terjangkau dan berkualitas tinggi kepada pelanggan di Asia Tenggara. Silakan gunakan produk sesuai dengan panduan operasi, silakan tinggalkan pujian bintang lima Anda setelah menerima barang, \n",
      "\n",
      "Nama Produk   :   HAN RIVER\n",
      "\n",
      "Nilai tegangan ：220V\n",
      "\n",
      "Nilai Daya: 800watt\n",
      "\n",
      "Nilai frekuensi ：50HZ\n",
      "\n",
      "Fungsi produk：angin biasa/Udara panas\n",
      "\n",
      "Gaya mulut angin：Outlet udara tunggal\n",
      "\n",
      "Peraturan 5 kecepatan\n",
      "\n",
      "Selesaikan 6 masalah besar\n",
      "\n",
      "Materi baru, anti-jatuh\n",
      "\n",
      "Tebal 1,8 m dan kabel listrik tebal\n",
      "\n",
      "Dilengkapi dengan BLUE ANION CAHAYA (melindungi rambut dari overdried)\n",
      "\n",
      "Harganya setengah dari produk berkualitas yang sama, menghabiskan setengah dari uang, menikmati layanan berkualitas tinggi\n",
      "800watt Anion  Beauty Salon Haircare Hair drier Cold hot wind Pengatur panas Hairdryer\n",
      "#HAIR DRYER #HAIR #HAN RIVER##hairdryermini\n"
     ]
    }
   ],
   "metadata": {}
  },
  {
   "cell_type": "markdown",
   "source": [
    "Description sudah sesuai"
   ],
   "metadata": {}
  },
  {
   "cell_type": "markdown",
   "source": [
    "### Price"
   ],
   "metadata": {}
  },
  {
   "cell_type": "code",
   "execution_count": 142,
   "source": [
    "df[\"price\"]"
   ],
   "outputs": [
    {
     "output_type": "execute_result",
     "data": {
      "text/plain": [
       "0                  Rp99.000\n",
       "1                  Rp99.000\n",
       "2                  Rp49.000\n",
       "3                 Rp119.000\n",
       "4                 Rp119.000\n",
       "5                  Rp95.000\n",
       "6                  Rp95.000\n",
       "7                  Rp95.000\n",
       "8                 Rp125.000\n",
       "9                  Rp78.900\n",
       "10                 Rp89.000\n",
       "11                Rp229.000\n",
       "12                 Rp20.000\n",
       "13                 Rp20.000\n",
       "14                 Rp20.000\n",
       "15                Rp189.000\n",
       "16                 Rp99.000\n",
       "17                 Rp99.000\n",
       "18                Rp229.000\n",
       "19                Rp299.000\n",
       "20                Rp299.000\n",
       "21    Rp149.000 - Rp175.000\n",
       "22    Rp149.000 - Rp175.000\n",
       "23                Rp299.000\n",
       "24                Rp219.000\n",
       "25                 Rp99.000\n",
       "Name: price, dtype: object"
      ]
     },
     "metadata": {},
     "execution_count": 142
    }
   ],
   "metadata": {}
  },
  {
   "cell_type": "markdown",
   "source": [
    "#### Hilangkan \"Rp\" dan \".\""
   ],
   "metadata": {}
  },
  {
   "cell_type": "code",
   "execution_count": 143,
   "source": [
    "# Hilangkan \"Rp\"\r\n",
    "df[\"price\"] = df[\"price\"].str.replace(\"Rp\",\"\")\r\n",
    "\r\n",
    "# Hilangkan \".\"\r\n",
    "df[\"price\"] = df[\"price\"].str.replace(\".\",\"\")\r\n",
    "\r\n",
    "df[\"price\"]"
   ],
   "outputs": [
    {
     "output_type": "stream",
     "name": "stderr",
     "text": [
      "C:\\Users\\ekaap\\AppData\\Local\\Temp/ipykernel_6576/123415442.py:5: FutureWarning: The default value of regex will change from True to False in a future version. In addition, single character regular expressions will *not* be treated as literal strings when regex=True.\n",
      "  df[\"price\"] = df[\"price\"].str.replace(\".\",\"\")\n"
     ]
    },
    {
     "output_type": "execute_result",
     "data": {
      "text/plain": [
       "0               99000\n",
       "1               99000\n",
       "2               49000\n",
       "3              119000\n",
       "4              119000\n",
       "5               95000\n",
       "6               95000\n",
       "7               95000\n",
       "8              125000\n",
       "9               78900\n",
       "10              89000\n",
       "11             229000\n",
       "12              20000\n",
       "13              20000\n",
       "14              20000\n",
       "15             189000\n",
       "16              99000\n",
       "17              99000\n",
       "18             229000\n",
       "19             299000\n",
       "20             299000\n",
       "21    149000 - 175000\n",
       "22    149000 - 175000\n",
       "23             299000\n",
       "24             219000\n",
       "25              99000\n",
       "Name: price, dtype: object"
      ]
     },
     "metadata": {},
     "execution_count": 143
    }
   ],
   "metadata": {}
  },
  {
   "cell_type": "code",
   "execution_count": 144,
   "source": [
    "# Untuk interval, ambil harga terendah\r\n",
    "\r\n",
    "df[\"price\"] = df[\"price\"].str.extract(\"(\\d+)\")\r\n",
    "df[\"price\"]"
   ],
   "outputs": [
    {
     "output_type": "execute_result",
     "data": {
      "text/plain": [
       "0      99000\n",
       "1      99000\n",
       "2      49000\n",
       "3     119000\n",
       "4     119000\n",
       "5      95000\n",
       "6      95000\n",
       "7      95000\n",
       "8     125000\n",
       "9      78900\n",
       "10     89000\n",
       "11    229000\n",
       "12     20000\n",
       "13     20000\n",
       "14     20000\n",
       "15    189000\n",
       "16     99000\n",
       "17     99000\n",
       "18    229000\n",
       "19    299000\n",
       "20    299000\n",
       "21    149000\n",
       "22    149000\n",
       "23    299000\n",
       "24    219000\n",
       "25     99000\n",
       "Name: price, dtype: object"
      ]
     },
     "metadata": {},
     "execution_count": 144
    }
   ],
   "metadata": {}
  },
  {
   "cell_type": "code",
   "execution_count": 145,
   "source": [
    "# Konversi tipe data ke Integer\r\n",
    "df[\"price\"] = df[\"price\"].astype('int64')\r\n",
    "df[\"price\"]"
   ],
   "outputs": [
    {
     "output_type": "execute_result",
     "data": {
      "text/plain": [
       "0      99000\n",
       "1      99000\n",
       "2      49000\n",
       "3     119000\n",
       "4     119000\n",
       "5      95000\n",
       "6      95000\n",
       "7      95000\n",
       "8     125000\n",
       "9      78900\n",
       "10     89000\n",
       "11    229000\n",
       "12     20000\n",
       "13     20000\n",
       "14     20000\n",
       "15    189000\n",
       "16     99000\n",
       "17     99000\n",
       "18    229000\n",
       "19    299000\n",
       "20    299000\n",
       "21    149000\n",
       "22    149000\n",
       "23    299000\n",
       "24    219000\n",
       "25     99000\n",
       "Name: price, dtype: int64"
      ]
     },
     "metadata": {},
     "execution_count": 145
    }
   ],
   "metadata": {}
  },
  {
   "cell_type": "markdown",
   "source": [
    "### Weight"
   ],
   "metadata": {}
  },
  {
   "cell_type": "code",
   "execution_count": 146,
   "source": [
    "df[\"weight\"]"
   ],
   "outputs": [
    {
     "output_type": "execute_result",
     "data": {
      "text/plain": [
       "0       NaN\n",
       "1       NaN\n",
       "2       NaN\n",
       "3       NaN\n",
       "4       NaN\n",
       "5       NaN\n",
       "6       NaN\n",
       "7       NaN\n",
       "8       NaN\n",
       "9       NaN\n",
       "10      NaN\n",
       "11      NaN\n",
       "12      NaN\n",
       "13      NaN\n",
       "14      NaN\n",
       "15      NaN\n",
       "16      NaN\n",
       "17      NaN\n",
       "18      2kg\n",
       "19      3kg\n",
       "20      NaN\n",
       "21      2kg\n",
       "22      NaN\n",
       "23    4.5kg\n",
       "24      2kg\n",
       "25     500g\n",
       "Name: weight, dtype: object"
      ]
     },
     "metadata": {},
     "execution_count": 146
    }
   ],
   "metadata": {}
  },
  {
   "cell_type": "markdown",
   "source": [
    "#### Buat satuan Weight menjadi Gram"
   ],
   "metadata": {}
  },
  {
   "cell_type": "code",
   "execution_count": 147,
   "source": [
    "# Buat kolom baru bernama \"Unit\" untuk menandai weight Kg dan Gr\r\n",
    "df[\"unit\"] = df[\"weight\"].str.extract(\"\\s?([a-zA-Z]+)\")\r\n",
    "df[\"unit\"].value_counts()"
   ],
   "outputs": [
    {
     "output_type": "execute_result",
     "data": {
      "text/plain": [
       "kg    5\n",
       "g     1\n",
       "Name: unit, dtype: int64"
      ]
     },
     "metadata": {},
     "execution_count": 147
    }
   ],
   "metadata": {}
  },
  {
   "cell_type": "code",
   "execution_count": 148,
   "source": [
    "# Hilangkan satuan di kolom \"weight\"\r\n",
    "df[\"weight\"] = df[\"weight\"].str.extract(\"\\s?([0-9]+)\")\r\n",
    "\r\n",
    "# Konversi tipe data menjadi integer\r\n",
    "df[\"weight\"] = pd.to_numeric(df[\"weight\"], errors='coerce')\r\n",
    "\r\n",
    "df[\"weight\"]"
   ],
   "outputs": [
    {
     "output_type": "execute_result",
     "data": {
      "text/plain": [
       "0       NaN\n",
       "1       NaN\n",
       "2       NaN\n",
       "3       NaN\n",
       "4       NaN\n",
       "5       NaN\n",
       "6       NaN\n",
       "7       NaN\n",
       "8       NaN\n",
       "9       NaN\n",
       "10      NaN\n",
       "11      NaN\n",
       "12      NaN\n",
       "13      NaN\n",
       "14      NaN\n",
       "15      NaN\n",
       "16      NaN\n",
       "17      NaN\n",
       "18      2.0\n",
       "19      3.0\n",
       "20      NaN\n",
       "21      2.0\n",
       "22      NaN\n",
       "23      4.0\n",
       "24      2.0\n",
       "25    500.0\n",
       "Name: weight, dtype: float64"
      ]
     },
     "metadata": {},
     "execution_count": 148
    }
   ],
   "metadata": {}
  },
  {
   "cell_type": "code",
   "execution_count": 149,
   "source": [
    "# Buat dictionary untuk mendefinisikan pengali\r\n",
    "weight_converter = {\"kg\": 1000, \"g\": 1}\r\n",
    "\r\n",
    "# Buat kolom \"multiplier\" untuk pengali weight dengan memetakan nilai di kolom \"unit\"\r\n",
    "df[\"multiplier\"] = df[\"unit\"].map(weight_converter)\r\n",
    "\r\n",
    "# Kalikan kolom \"weight\" dengan kolom \"multiplier\"\r\n",
    "df[\"weight\"] = df[\"weight\"] * df[\"multiplier\"]\r\n",
    "\r\n",
    "# Drop kolom \"unit\" dan \"multiplier\"\r\n",
    "df = df.drop(columns=[\"unit\", \"multiplier\"])\r\n",
    "\r\n",
    "df[\"weight\"]"
   ],
   "outputs": [
    {
     "output_type": "execute_result",
     "data": {
      "text/plain": [
       "0        NaN\n",
       "1        NaN\n",
       "2        NaN\n",
       "3        NaN\n",
       "4        NaN\n",
       "5        NaN\n",
       "6        NaN\n",
       "7        NaN\n",
       "8        NaN\n",
       "9        NaN\n",
       "10       NaN\n",
       "11       NaN\n",
       "12       NaN\n",
       "13       NaN\n",
       "14       NaN\n",
       "15       NaN\n",
       "16       NaN\n",
       "17       NaN\n",
       "18    2000.0\n",
       "19    3000.0\n",
       "20       NaN\n",
       "21    2000.0\n",
       "22       NaN\n",
       "23    4000.0\n",
       "24    2000.0\n",
       "25     500.0\n",
       "Name: weight, dtype: float64"
      ]
     },
     "metadata": {},
     "execution_count": 149
    }
   ],
   "metadata": {}
  },
  {
   "cell_type": "markdown",
   "source": [
    "### Stock"
   ],
   "metadata": {}
  },
  {
   "cell_type": "code",
   "execution_count": 150,
   "source": [
    "df[\"stock\"]"
   ],
   "outputs": [
    {
     "output_type": "execute_result",
     "data": {
      "text/plain": [
       "0     2753.0\n",
       "1        NaN\n",
       "2     2709.0\n",
       "3     1344.0\n",
       "4        NaN\n",
       "5      640.0\n",
       "6        NaN\n",
       "7        NaN\n",
       "8        NaN\n",
       "9      298.0\n",
       "10     866.0\n",
       "11     455.0\n",
       "12     157.0\n",
       "13       NaN\n",
       "14       NaN\n",
       "15     653.0\n",
       "16     470.0\n",
       "17       NaN\n",
       "18     267.0\n",
       "19     168.0\n",
       "20       NaN\n",
       "21     537.0\n",
       "22       NaN\n",
       "23     499.0\n",
       "24    4393.0\n",
       "25     987.0\n",
       "Name: stock, dtype: float64"
      ]
     },
     "metadata": {},
     "execution_count": 150
    }
   ],
   "metadata": {}
  },
  {
   "cell_type": "code",
   "execution_count": 151,
   "source": [
    "# Konversi float ke integer\r\n",
    "\r\n",
    "df[\"stock\"] = df[\"stock\"].astype('Int64')\r\n",
    "df[\"stock\"]"
   ],
   "outputs": [
    {
     "output_type": "execute_result",
     "data": {
      "text/plain": [
       "0     2753\n",
       "1     <NA>\n",
       "2     2709\n",
       "3     1344\n",
       "4     <NA>\n",
       "5      640\n",
       "6     <NA>\n",
       "7     <NA>\n",
       "8     <NA>\n",
       "9      298\n",
       "10     866\n",
       "11     455\n",
       "12     157\n",
       "13    <NA>\n",
       "14    <NA>\n",
       "15     653\n",
       "16     470\n",
       "17    <NA>\n",
       "18     267\n",
       "19     168\n",
       "20    <NA>\n",
       "21     537\n",
       "22    <NA>\n",
       "23     499\n",
       "24    4393\n",
       "25     987\n",
       "Name: stock, dtype: Int64"
      ]
     },
     "metadata": {},
     "execution_count": 151
    }
   ],
   "metadata": {}
  },
  {
   "cell_type": "markdown",
   "source": [
    "### Image URLs"
   ],
   "metadata": {}
  },
  {
   "cell_type": "code",
   "execution_count": 152,
   "source": [
    "df[\"image_urls\"][0]"
   ],
   "outputs": [
    {
     "output_type": "execute_result",
     "data": {
      "text/plain": [
       "'https://cvf.shopee.co.id/file/1b2fed66b798be63ff1f8af1aa19500a,background-image: url(\"https://cf.shopee.co.id/file/e9e9b5b5ad10168f3d7b2fcd9dce5137\"),background-image: url(\"https://cf.shopee.co.id/file/2461eb903dab4565d42245c25d49e953\"),background-image: url(\"https://cf.shopee.co.id/file/83e1e442e2547b66ad59d2af1cf4a76c\"),background-image: url(\"https://cf.shopee.co.id/file/9a8d3c676a0fb1191376635a27b1e158\"),background-image: url(\"https://cf.shopee.co.id/file/8a6cda0dfbac25a8611e6b77a2e70349\"),background-image: url(\"https://cf.shopee.co.id/file/5a191a4d8d1d4ca553751be1c68f63eb\"),background-image: url(\"https://cf.shopee.co.id/file/b270b3b5ff0c06bb8776baa8bf50a8da\")'"
      ]
     },
     "metadata": {},
     "execution_count": 152
    }
   ],
   "metadata": {}
  },
  {
   "cell_type": "code",
   "execution_count": 153,
   "source": [
    "# Pisahkan link-link gambar dengan separator \",\"\r\n",
    "\r\n",
    "df[\"image_urls\"] = df[\"image_urls\"].str.split(\",\")\r\n",
    "df[\"image_urls\"][0]"
   ],
   "outputs": [
    {
     "output_type": "execute_result",
     "data": {
      "text/plain": [
       "['https://cvf.shopee.co.id/file/1b2fed66b798be63ff1f8af1aa19500a',\n",
       " 'background-image: url(\"https://cf.shopee.co.id/file/e9e9b5b5ad10168f3d7b2fcd9dce5137\")',\n",
       " 'background-image: url(\"https://cf.shopee.co.id/file/2461eb903dab4565d42245c25d49e953\")',\n",
       " 'background-image: url(\"https://cf.shopee.co.id/file/83e1e442e2547b66ad59d2af1cf4a76c\")',\n",
       " 'background-image: url(\"https://cf.shopee.co.id/file/9a8d3c676a0fb1191376635a27b1e158\")',\n",
       " 'background-image: url(\"https://cf.shopee.co.id/file/8a6cda0dfbac25a8611e6b77a2e70349\")',\n",
       " 'background-image: url(\"https://cf.shopee.co.id/file/5a191a4d8d1d4ca553751be1c68f63eb\")',\n",
       " 'background-image: url(\"https://cf.shopee.co.id/file/b270b3b5ff0c06bb8776baa8bf50a8da\")']"
      ]
     },
     "metadata": {},
     "execution_count": 153
    }
   ],
   "metadata": {}
  },
  {
   "cell_type": "code",
   "execution_count": 157,
   "source": [
    "# Ambil link nya saja\r\n",
    "\r\n",
    "regex_url = \"((http|https)\\:\\/\\/)?[a-zA-Z0-9\\.\\/\\?\\:@\\-_=#]+\\.([a-zA-Z]){2,6}([a-zA-Z0-9\\.\\&\\/\\?\\:@\\-_=#])*\"\r\n",
    "\r\n",
    "for i in range(len(df[\"image_urls\"])):\r\n",
    "    df[\"image_urls\"][i] = \",\".join([re.search(regex_url, x)[0] for x in df[\"image_urls\"][i]])\r\n",
    "\r\n",
    "df[\"image_urls\"]"
   ],
   "outputs": [
    {
     "output_type": "stream",
     "name": "stderr",
     "text": [
      "C:\\Users\\ekaap\\AppData\\Local\\Temp/ipykernel_6576/2109101849.py:6: SettingWithCopyWarning: \n",
      "A value is trying to be set on a copy of a slice from a DataFrame\n",
      "\n",
      "See the caveats in the documentation: https://pandas.pydata.org/pandas-docs/stable/user_guide/indexing.html#returning-a-view-versus-a-copy\n",
      "  df[\"image_urls\"][i] = \",\".join([re.search(regex_url, x)[0] for x in df[\"image_urls\"][i]])\n"
     ]
    },
    {
     "output_type": "execute_result",
     "data": {
      "text/plain": [
       "0     https://cvf.shopee.co.id/file/1b2fed66b798be63...\n",
       "1     https://cvf.shopee.co.id/file/6475204a14ea165e...\n",
       "2     https://cf.shopee.co.id/file/a1e9ff29bd1c44bb8...\n",
       "3     https://cvf.shopee.co.id/file/5ce3e003c487b135...\n",
       "4     https://cf.shopee.co.id/file/3fc9195e560d962fc...\n",
       "5     https://cvf.shopee.co.id/file/d7df9c2f39c4cd0d...\n",
       "6     https://cf.shopee.co.id/file/22c8381ca3aba5f13...\n",
       "7     https://cf.shopee.co.id/file/ee8df22faeb0c4b24...\n",
       "8     https://cvf.shopee.co.id/file/KI0CuyY22GWbpYsE...\n",
       "9     https://cf.shopee.co.id/file/2d16055d317495967...\n",
       "10    https://cf.shopee.co.id/file/285ad307cd9564083...\n",
       "11    https://cf.shopee.co.id/file/2e3b246fcfcaaf41b...\n",
       "12    https://cf.shopee.co.id/file/51b6846be2b6a8635...\n",
       "13    https://cf.shopee.co.id/file/997864554b3c0bff6...\n",
       "14    https://cvf.shopee.co.id/file/02a758f402595da9...\n",
       "15    https://cf.shopee.co.id/file/036f6601a374a7436...\n",
       "16    https://cvf.shopee.co.id/file/555c64aacd996b24...\n",
       "17    https://cf.shopee.co.id/file/2e3b246fcfcaaf41b...\n",
       "18    https://cvf.shopee.co.id/file/1ae1bf993f9ff981...\n",
       "19    https://cf.shopee.co.id/file/2312d6529dbf57486...\n",
       "20    https://cvf.shopee.co.id/file/92e75ffeea3cd8b7...\n",
       "21    https://cvf.shopee.co.id/file/ba129a0cedc87622...\n",
       "22    https://cf.shopee.co.id/file/98cf05bf79676a531...\n",
       "23    https://cf.shopee.co.id/file/a1419935ebc1daa4d...\n",
       "24    https://cvf.shopee.co.id/file/8ebdccc7f71f7991...\n",
       "25    https://cvf.shopee.co.id/file/b70add5976bc342f...\n",
       "Name: image_urls, dtype: object"
      ]
     },
     "metadata": {},
     "execution_count": 157
    }
   ],
   "metadata": {}
  },
  {
   "cell_type": "markdown",
   "source": [
    "## Hasil Cleaning"
   ],
   "metadata": {}
  },
  {
   "cell_type": "code",
   "execution_count": 159,
   "source": [
    "df"
   ],
   "outputs": [
    {
     "output_type": "execute_result",
     "data": {
      "text/html": [
       "<div>\n",
       "<style scoped>\n",
       "    .dataframe tbody tr th:only-of-type {\n",
       "        vertical-align: middle;\n",
       "    }\n",
       "\n",
       "    .dataframe tbody tr th {\n",
       "        vertical-align: top;\n",
       "    }\n",
       "\n",
       "    .dataframe thead th {\n",
       "        text-align: right;\n",
       "    }\n",
       "</style>\n",
       "<table border=\"1\" class=\"dataframe\">\n",
       "  <thead>\n",
       "    <tr style=\"text-align: right;\">\n",
       "      <th></th>\n",
       "      <th>name</th>\n",
       "      <th>category</th>\n",
       "      <th>description</th>\n",
       "      <th>price</th>\n",
       "      <th>weight</th>\n",
       "      <th>stock</th>\n",
       "      <th>image_urls</th>\n",
       "    </tr>\n",
       "  </thead>\n",
       "  <tbody>\n",
       "    <tr>\n",
       "      <th>0</th>\n",
       "      <td>HAN RIVER HRHD03GN Hair dryer 800W Pengering R...</td>\n",
       "      <td>Alat Kecantikan</td>\n",
       "      <td>（Perhatian！！！！ ！！！！）Bagian atas adalah tombol ...</td>\n",
       "      <td>99000</td>\n",
       "      <td>NaN</td>\n",
       "      <td>2753</td>\n",
       "      <td>https://cvf.shopee.co.id/file/1b2fed66b798be63...</td>\n",
       "    </tr>\n",
       "    <tr>\n",
       "      <th>1</th>\n",
       "      <td>HAN RIVER Hair Dryer HRCFS01 ONE STEP SISIR PE...</td>\n",
       "      <td>Alat Kecantikan</td>\n",
       "      <td>NaN</td>\n",
       "      <td>99000</td>\n",
       "      <td>NaN</td>\n",
       "      <td>&lt;NA&gt;</td>\n",
       "      <td>https://cvf.shopee.co.id/file/6475204a14ea165e...</td>\n",
       "    </tr>\n",
       "    <tr>\n",
       "      <th>2</th>\n",
       "      <td>HAN RIVER HRDRY01WH Alat Setrika Wajah Pemijat...</td>\n",
       "      <td>Alat Kecantikan</td>\n",
       "      <td>HAN RIVERHousehold appliancesSelamat datang un...</td>\n",
       "      <td>49000</td>\n",
       "      <td>NaN</td>\n",
       "      <td>2709</td>\n",
       "      <td>https://cf.shopee.co.id/file/a1e9ff29bd1c44bb8...</td>\n",
       "    </tr>\n",
       "    <tr>\n",
       "      <th>3</th>\n",
       "      <td>HAN RIVER L2010 Alat Setrika Wajah Pemijat Per...</td>\n",
       "      <td>Alat Kecantikan</td>\n",
       "      <td>HAN RIVERHousehold appliancesSelamat datang un...</td>\n",
       "      <td>119000</td>\n",
       "      <td>NaN</td>\n",
       "      <td>1344</td>\n",
       "      <td>https://cvf.shopee.co.id/file/5ce3e003c487b135...</td>\n",
       "    </tr>\n",
       "    <tr>\n",
       "      <th>4</th>\n",
       "      <td>HAN RIVER Catokan Rambut 2in1 Set 35watt hitam</td>\n",
       "      <td>Alat Kecantikan</td>\n",
       "      <td>NaN</td>\n",
       "      <td>119000</td>\n",
       "      <td>NaN</td>\n",
       "      <td>&lt;NA&gt;</td>\n",
       "      <td>https://cf.shopee.co.id/file/3fc9195e560d962fc...</td>\n",
       "    </tr>\n",
       "    <tr>\n",
       "      <th>5</th>\n",
       "      <td>HAN RIVER B01 penyedot komedo Vaccum Microcrys...</td>\n",
       "      <td>Alat Kecantikan</td>\n",
       "      <td>HAN RIVER B01 Alat Penyedot Vaccum Komedo Micr...</td>\n",
       "      <td>95000</td>\n",
       "      <td>NaN</td>\n",
       "      <td>640</td>\n",
       "      <td>https://cvf.shopee.co.id/file/d7df9c2f39c4cd0d...</td>\n",
       "    </tr>\n",
       "    <tr>\n",
       "      <th>6</th>\n",
       "      <td>HAN RIVER Catokan Rambut HRJFB03BK HITAM 45watt</td>\n",
       "      <td>Alat Kecantikan</td>\n",
       "      <td>NaN</td>\n",
       "      <td>95000</td>\n",
       "      <td>NaN</td>\n",
       "      <td>&lt;NA&gt;</td>\n",
       "      <td>https://cf.shopee.co.id/file/22c8381ca3aba5f13...</td>\n",
       "    </tr>\n",
       "    <tr>\n",
       "      <th>7</th>\n",
       "      <td>HAN RIVER catokan rambut 2 in 1 catokan - hita...</td>\n",
       "      <td>Alat Kecantikan</td>\n",
       "      <td>NaN</td>\n",
       "      <td>95000</td>\n",
       "      <td>NaN</td>\n",
       "      <td>&lt;NA&gt;</td>\n",
       "      <td>https://cf.shopee.co.id/file/ee8df22faeb0c4b24...</td>\n",
       "    </tr>\n",
       "    <tr>\n",
       "      <th>8</th>\n",
       "      <td>HAN RIVER HRHD01BK Hair dryer 800W Pengering R...</td>\n",
       "      <td>Alat Kecantikan</td>\n",
       "      <td>NaN</td>\n",
       "      <td>125000</td>\n",
       "      <td>NaN</td>\n",
       "      <td>&lt;NA&gt;</td>\n",
       "      <td>https://cvf.shopee.co.id/file/KI0CuyY22GWbpYsE...</td>\n",
       "    </tr>\n",
       "    <tr>\n",
       "      <th>9</th>\n",
       "      <td>HAN RIVER HRHD02BK Hair dryer Household multi-...</td>\n",
       "      <td>Alat Kecantikan</td>\n",
       "      <td>catatan! !！！！！Bagian atas adalah tombol suhu, ...</td>\n",
       "      <td>78900</td>\n",
       "      <td>NaN</td>\n",
       "      <td>298</td>\n",
       "      <td>https://cf.shopee.co.id/file/2d16055d317495967...</td>\n",
       "    </tr>\n",
       "    <tr>\n",
       "      <th>10</th>\n",
       "      <td>HAN RIVER HRJFB04 Catokan Rambut HITAM 30watt</td>\n",
       "      <td>Alat Kecantikan</td>\n",
       "      <td>HAN RIVER HRJFB01\\n\\nPELURUS RAMBUT\\nBISA BUAT...</td>\n",
       "      <td>89000</td>\n",
       "      <td>NaN</td>\n",
       "      <td>866</td>\n",
       "      <td>https://cf.shopee.co.id/file/285ad307cd9564083...</td>\n",
       "    </tr>\n",
       "    <tr>\n",
       "      <th>11</th>\n",
       "      <td>HAN RIVER panci listrik HRDKP01 grill pan BBQ ...</td>\n",
       "      <td>Perlengkapan Dapur</td>\n",
       "      <td>HAN RIVER grill pan panggangan elektrik BBQ ti...</td>\n",
       "      <td>229000</td>\n",
       "      <td>NaN</td>\n",
       "      <td>455</td>\n",
       "      <td>https://cf.shopee.co.id/file/2e3b246fcfcaaf41b...</td>\n",
       "    </tr>\n",
       "    <tr>\n",
       "      <th>12</th>\n",
       "      <td>HAN RIVER Cooking jar BOTTLE</td>\n",
       "      <td>Perlengkapan Dapur</td>\n",
       "      <td>（Perhatian！！！！ ！！！！）Warna produk ini dikirim s...</td>\n",
       "      <td>20000</td>\n",
       "      <td>NaN</td>\n",
       "      <td>157</td>\n",
       "      <td>https://cf.shopee.co.id/file/51b6846be2b6a8635...</td>\n",
       "    </tr>\n",
       "    <tr>\n",
       "      <th>13</th>\n",
       "      <td>Han River HRHB5PK Spatula pencampur 5 pcs -Gir...</td>\n",
       "      <td>Perlengkapan Dapur</td>\n",
       "      <td>NaN</td>\n",
       "      <td>20000</td>\n",
       "      <td>NaN</td>\n",
       "      <td>&lt;NA&gt;</td>\n",
       "      <td>https://cf.shopee.co.id/file/997864554b3c0bff6...</td>\n",
       "    </tr>\n",
       "    <tr>\n",
       "      <th>14</th>\n",
       "      <td>HAN RIVER Pisau set / Knife Set 6 Pcs / Kitche...</td>\n",
       "      <td>Perlengkapan Dapur</td>\n",
       "      <td>NaN</td>\n",
       "      <td>20000</td>\n",
       "      <td>NaN</td>\n",
       "      <td>&lt;NA&gt;</td>\n",
       "      <td>https://cvf.shopee.co.id/file/02a758f402595da9...</td>\n",
       "    </tr>\n",
       "    <tr>\n",
       "      <th>15</th>\n",
       "      <td>HAN RIVER Z9 Electric Grill Multifungsi 1400 watt</td>\n",
       "      <td>Perlengkapan Dapur</td>\n",
       "      <td>HAN RIVERHousehold appliancesSelamat datang un...</td>\n",
       "      <td>189000</td>\n",
       "      <td>NaN</td>\n",
       "      <td>653</td>\n",
       "      <td>https://cf.shopee.co.id/file/036f6601a374a7436...</td>\n",
       "    </tr>\n",
       "    <tr>\n",
       "      <th>16</th>\n",
       "      <td>HAN RIVER HRHB4GN Spatula pencampur 4 pcs - Hi...</td>\n",
       "      <td>Perlengkapan Dapur</td>\n",
       "      <td>Nama Merek:Han River\\nModel: Hijau alami\\nFitu...</td>\n",
       "      <td>99000</td>\n",
       "      <td>NaN</td>\n",
       "      <td>470</td>\n",
       "      <td>https://cvf.shopee.co.id/file/555c64aacd996b24...</td>\n",
       "    </tr>\n",
       "    <tr>\n",
       "      <th>17</th>\n",
       "      <td>HAN RIVER HRSKG01BK Grill Electric BBQ Panggan...</td>\n",
       "      <td>Alat Masak Serbaguna</td>\n",
       "      <td>NaN</td>\n",
       "      <td>99000</td>\n",
       "      <td>NaN</td>\n",
       "      <td>&lt;NA&gt;</td>\n",
       "      <td>https://cf.shopee.co.id/file/2e3b246fcfcaaf41b...</td>\n",
       "    </tr>\n",
       "    <tr>\n",
       "      <th>18</th>\n",
       "      <td>HAN RIVER HRSKG02BK Grill Electric BBQ Panggan...</td>\n",
       "      <td>Alat Masak Serbaguna</td>\n",
       "      <td>（Perhatian！！！）Silakan tambahkan hadiah di \"Bel...</td>\n",
       "      <td>229000</td>\n",
       "      <td>2000.0</td>\n",
       "      <td>267</td>\n",
       "      <td>https://cvf.shopee.co.id/file/1ae1bf993f9ff981...</td>\n",
       "    </tr>\n",
       "    <tr>\n",
       "      <th>19</th>\n",
       "      <td>HAN RIVER Grill pan HRSKG03BK Kontrol ganda BB...</td>\n",
       "      <td>Alat Masak Serbaguna</td>\n",
       "      <td>（Perhatian！！！）Silakan tambahkan hadiah di \"Bel...</td>\n",
       "      <td>299000</td>\n",
       "      <td>3000.0</td>\n",
       "      <td>168</td>\n",
       "      <td>https://cf.shopee.co.id/file/2312d6529dbf57486...</td>\n",
       "    </tr>\n",
       "    <tr>\n",
       "      <th>20</th>\n",
       "      <td>HAN RIVER Panci Elektrik/panci listrik/Panci B...</td>\n",
       "      <td>Alat Masak Serbaguna</td>\n",
       "      <td>NaN</td>\n",
       "      <td>299000</td>\n",
       "      <td>NaN</td>\n",
       "      <td>&lt;NA&gt;</td>\n",
       "      <td>https://cvf.shopee.co.id/file/92e75ffeea3cd8b7...</td>\n",
       "    </tr>\n",
       "    <tr>\n",
       "      <th>21</th>\n",
       "      <td>HAN RIVER panci listrik 2 in 1/Multi Electric ...</td>\n",
       "      <td>Alat Masak Serbaguna</td>\n",
       "      <td>HAN RIVERHousehold appliancesSelamat datang un...</td>\n",
       "      <td>149000</td>\n",
       "      <td>2000.0</td>\n",
       "      <td>537</td>\n",
       "      <td>https://cvf.shopee.co.id/file/ba129a0cedc87622...</td>\n",
       "    </tr>\n",
       "    <tr>\n",
       "      <th>22</th>\n",
       "      <td>HAN RIVER Blender HRJRJ03 gold 2L</td>\n",
       "      <td>Juicer</td>\n",
       "      <td>NaN</td>\n",
       "      <td>149000</td>\n",
       "      <td>NaN</td>\n",
       "      <td>&lt;NA&gt;</td>\n",
       "      <td>https://cf.shopee.co.id/file/98cf05bf79676a531...</td>\n",
       "    </tr>\n",
       "    <tr>\n",
       "      <th>23</th>\n",
       "      <td>HAN RIVER Blender HRPBJ01 Mitochiba CH 200 PRE...</td>\n",
       "      <td>Juicer</td>\n",
       "      <td>Spesifikasi\\nMerek: Sungai Han\\nBuatan China\\n...</td>\n",
       "      <td>299000</td>\n",
       "      <td>4000.0</td>\n",
       "      <td>499</td>\n",
       "      <td>https://cf.shopee.co.id/file/a1419935ebc1daa4d...</td>\n",
       "    </tr>\n",
       "    <tr>\n",
       "      <th>24</th>\n",
       "      <td>HAN RIVER Blender HRJRJ-S2BK chopper 2L</td>\n",
       "      <td>Juicer</td>\n",
       "      <td>（Perhatian！！！！ ！！！！）Setiap penggunaan tidak bo...</td>\n",
       "      <td>219000</td>\n",
       "      <td>2000.0</td>\n",
       "      <td>4393</td>\n",
       "      <td>https://cvf.shopee.co.id/file/8ebdccc7f71f7991...</td>\n",
       "    </tr>\n",
       "    <tr>\n",
       "      <th>25</th>\n",
       "      <td>Han River 810PK blender portable/Juicer Usb 410M</td>\n",
       "      <td>Juicer</td>\n",
       "      <td>Produk toko kami semuanya original dan kualita...</td>\n",
       "      <td>99000</td>\n",
       "      <td>500.0</td>\n",
       "      <td>987</td>\n",
       "      <td>https://cvf.shopee.co.id/file/b70add5976bc342f...</td>\n",
       "    </tr>\n",
       "  </tbody>\n",
       "</table>\n",
       "</div>"
      ],
      "text/plain": [
       "                                                 name              category  \\\n",
       "0   HAN RIVER HRHD03GN Hair dryer 800W Pengering R...       Alat Kecantikan   \n",
       "1   HAN RIVER Hair Dryer HRCFS01 ONE STEP SISIR PE...       Alat Kecantikan   \n",
       "2   HAN RIVER HRDRY01WH Alat Setrika Wajah Pemijat...       Alat Kecantikan   \n",
       "3   HAN RIVER L2010 Alat Setrika Wajah Pemijat Per...       Alat Kecantikan   \n",
       "4      HAN RIVER Catokan Rambut 2in1 Set 35watt hitam       Alat Kecantikan   \n",
       "5   HAN RIVER B01 penyedot komedo Vaccum Microcrys...       Alat Kecantikan   \n",
       "6     HAN RIVER Catokan Rambut HRJFB03BK HITAM 45watt       Alat Kecantikan   \n",
       "7   HAN RIVER catokan rambut 2 in 1 catokan - hita...       Alat Kecantikan   \n",
       "8   HAN RIVER HRHD01BK Hair dryer 800W Pengering R...       Alat Kecantikan   \n",
       "9   HAN RIVER HRHD02BK Hair dryer Household multi-...       Alat Kecantikan   \n",
       "10      HAN RIVER HRJFB04 Catokan Rambut HITAM 30watt       Alat Kecantikan   \n",
       "11  HAN RIVER panci listrik HRDKP01 grill pan BBQ ...    Perlengkapan Dapur   \n",
       "12                       HAN RIVER Cooking jar BOTTLE    Perlengkapan Dapur   \n",
       "13  Han River HRHB5PK Spatula pencampur 5 pcs -Gir...    Perlengkapan Dapur   \n",
       "14  HAN RIVER Pisau set / Knife Set 6 Pcs / Kitche...    Perlengkapan Dapur   \n",
       "15  HAN RIVER Z9 Electric Grill Multifungsi 1400 watt    Perlengkapan Dapur   \n",
       "16  HAN RIVER HRHB4GN Spatula pencampur 4 pcs - Hi...    Perlengkapan Dapur   \n",
       "17  HAN RIVER HRSKG01BK Grill Electric BBQ Panggan...  Alat Masak Serbaguna   \n",
       "18  HAN RIVER HRSKG02BK Grill Electric BBQ Panggan...  Alat Masak Serbaguna   \n",
       "19  HAN RIVER Grill pan HRSKG03BK Kontrol ganda BB...  Alat Masak Serbaguna   \n",
       "20  HAN RIVER Panci Elektrik/panci listrik/Panci B...  Alat Masak Serbaguna   \n",
       "21  HAN RIVER panci listrik 2 in 1/Multi Electric ...  Alat Masak Serbaguna   \n",
       "22                  HAN RIVER Blender HRJRJ03 gold 2L                Juicer   \n",
       "23  HAN RIVER Blender HRPBJ01 Mitochiba CH 200 PRE...                Juicer   \n",
       "24            HAN RIVER Blender HRJRJ-S2BK chopper 2L                Juicer   \n",
       "25   Han River 810PK blender portable/Juicer Usb 410M                Juicer   \n",
       "\n",
       "                                          description   price  weight  stock  \\\n",
       "0   （Perhatian！！！！ ！！！！）Bagian atas adalah tombol ...   99000     NaN   2753   \n",
       "1                                                 NaN   99000     NaN   <NA>   \n",
       "2   HAN RIVERHousehold appliancesSelamat datang un...   49000     NaN   2709   \n",
       "3   HAN RIVERHousehold appliancesSelamat datang un...  119000     NaN   1344   \n",
       "4                                                 NaN  119000     NaN   <NA>   \n",
       "5   HAN RIVER B01 Alat Penyedot Vaccum Komedo Micr...   95000     NaN    640   \n",
       "6                                                 NaN   95000     NaN   <NA>   \n",
       "7                                                 NaN   95000     NaN   <NA>   \n",
       "8                                                 NaN  125000     NaN   <NA>   \n",
       "9   catatan! !！！！！Bagian atas adalah tombol suhu, ...   78900     NaN    298   \n",
       "10  HAN RIVER HRJFB01\\n\\nPELURUS RAMBUT\\nBISA BUAT...   89000     NaN    866   \n",
       "11  HAN RIVER grill pan panggangan elektrik BBQ ti...  229000     NaN    455   \n",
       "12  （Perhatian！！！！ ！！！！）Warna produk ini dikirim s...   20000     NaN    157   \n",
       "13                                                NaN   20000     NaN   <NA>   \n",
       "14                                                NaN   20000     NaN   <NA>   \n",
       "15  HAN RIVERHousehold appliancesSelamat datang un...  189000     NaN    653   \n",
       "16  Nama Merek:Han River\\nModel: Hijau alami\\nFitu...   99000     NaN    470   \n",
       "17                                                NaN   99000     NaN   <NA>   \n",
       "18  （Perhatian！！！）Silakan tambahkan hadiah di \"Bel...  229000  2000.0    267   \n",
       "19  （Perhatian！！！）Silakan tambahkan hadiah di \"Bel...  299000  3000.0    168   \n",
       "20                                                NaN  299000     NaN   <NA>   \n",
       "21  HAN RIVERHousehold appliancesSelamat datang un...  149000  2000.0    537   \n",
       "22                                                NaN  149000     NaN   <NA>   \n",
       "23  Spesifikasi\\nMerek: Sungai Han\\nBuatan China\\n...  299000  4000.0    499   \n",
       "24  （Perhatian！！！！ ！！！！）Setiap penggunaan tidak bo...  219000  2000.0   4393   \n",
       "25  Produk toko kami semuanya original dan kualita...   99000   500.0    987   \n",
       "\n",
       "                                           image_urls  \n",
       "0   https://cvf.shopee.co.id/file/1b2fed66b798be63...  \n",
       "1   https://cvf.shopee.co.id/file/6475204a14ea165e...  \n",
       "2   https://cf.shopee.co.id/file/a1e9ff29bd1c44bb8...  \n",
       "3   https://cvf.shopee.co.id/file/5ce3e003c487b135...  \n",
       "4   https://cf.shopee.co.id/file/3fc9195e560d962fc...  \n",
       "5   https://cvf.shopee.co.id/file/d7df9c2f39c4cd0d...  \n",
       "6   https://cf.shopee.co.id/file/22c8381ca3aba5f13...  \n",
       "7   https://cf.shopee.co.id/file/ee8df22faeb0c4b24...  \n",
       "8   https://cvf.shopee.co.id/file/KI0CuyY22GWbpYsE...  \n",
       "9   https://cf.shopee.co.id/file/2d16055d317495967...  \n",
       "10  https://cf.shopee.co.id/file/285ad307cd9564083...  \n",
       "11  https://cf.shopee.co.id/file/2e3b246fcfcaaf41b...  \n",
       "12  https://cf.shopee.co.id/file/51b6846be2b6a8635...  \n",
       "13  https://cf.shopee.co.id/file/997864554b3c0bff6...  \n",
       "14  https://cvf.shopee.co.id/file/02a758f402595da9...  \n",
       "15  https://cf.shopee.co.id/file/036f6601a374a7436...  \n",
       "16  https://cvf.shopee.co.id/file/555c64aacd996b24...  \n",
       "17  https://cf.shopee.co.id/file/2e3b246fcfcaaf41b...  \n",
       "18  https://cvf.shopee.co.id/file/1ae1bf993f9ff981...  \n",
       "19  https://cf.shopee.co.id/file/2312d6529dbf57486...  \n",
       "20  https://cvf.shopee.co.id/file/92e75ffeea3cd8b7...  \n",
       "21  https://cvf.shopee.co.id/file/ba129a0cedc87622...  \n",
       "22  https://cf.shopee.co.id/file/98cf05bf79676a531...  \n",
       "23  https://cf.shopee.co.id/file/a1419935ebc1daa4d...  \n",
       "24  https://cvf.shopee.co.id/file/8ebdccc7f71f7991...  \n",
       "25  https://cvf.shopee.co.id/file/b70add5976bc342f...  "
      ]
     },
     "metadata": {},
     "execution_count": 159
    }
   ],
   "metadata": {}
  }
 ],
 "metadata": {
  "orig_nbformat": 4,
  "language_info": {
   "name": "python",
   "version": "3.8.5",
   "mimetype": "text/x-python",
   "codemirror_mode": {
    "name": "ipython",
    "version": 3
   },
   "pygments_lexer": "ipython3",
   "nbconvert_exporter": "python",
   "file_extension": ".py"
  },
  "kernelspec": {
   "name": "python3",
   "display_name": "Python 3.8.5 32-bit ('venv': venv)"
  },
  "interpreter": {
   "hash": "60f34b4c0f93e0f19f84e4a9fd45750a0e03c90fe86dc95393d81b9fb234195b"
  }
 },
 "nbformat": 4,
 "nbformat_minor": 2
}